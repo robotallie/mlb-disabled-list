{
 "cells": [
  {
   "cell_type": "code",
   "execution_count": 1,
   "metadata": {
    "collapsed": true
   },
   "outputs": [],
   "source": [
    "import csv\n",
    "import requests\n",
    "from bs4 import BeautifulSoup\n",
    "\n",
    "import numpy as np\n",
    "import pandas as pd\n",
    "import matplotlib.pyplot as plt\n",
    "import seaborn as sns\n",
    "\n",
    "%matplotlib inline"
   ]
  },
  {
   "cell_type": "markdown",
   "metadata": {},
   "source": [
    "* I was able to scrape Disabled List data from 657 pages of search results from Pro_sports_transactions (http://www.prosportstransactions.com/). There were 16,403 rows including players being placed on the list as well as those players being reactivated. The dataset had five columns for:\n",
    "  - Date\n",
    "  - Team\n",
    "  - Acquired Player name\n",
    "  - Relinquished Player name\n",
    "  - Notes: (e.g. placed on 15-day DL with hip injury)\n",
    "* I created new columns for for:\n",
    "  - Injured: 1 if the column for Relinquished/Name is not null.\n",
    "  - Player_Id: Created from the Retrosheet.com MLBPlayerIds.csv\n",
    "  - DL_Length: I added a column `'DL_length'` that holds the length of time the injured player was on the DL list, and coded unknown cells with `0`. The \n",
    "  - Injury_Type - I added a column `'Injury_Type'` where the type of injury described in the `'Notes'` column was extracted. The injury type was not reported in the majority of cases, and those that didn't have a 'with' word were coded with `'Unknown'`. \n",
    "* I saved the dataframe to a CSV file named 'injuries.csv', which is in the datasets folder of the repository, and which I use to bring the data into the main `baseball-injury-predictions.ipynb`."
   ]
  },
  {
   "cell_type": "code",
   "execution_count": 22,
   "metadata": {
    "scrolled": true
   },
   "outputs": [
    {
     "data": {
      "text/html": [
       "<div>\n",
       "<style scoped>\n",
       "    .dataframe tbody tr th:only-of-type {\n",
       "        vertical-align: middle;\n",
       "    }\n",
       "\n",
       "    .dataframe tbody tr th {\n",
       "        vertical-align: top;\n",
       "    }\n",
       "\n",
       "    .dataframe thead th {\n",
       "        text-align: right;\n",
       "    }\n",
       "</style>\n",
       "<table border=\"1\" class=\"dataframe\">\n",
       "  <thead>\n",
       "    <tr style=\"text-align: right;\">\n",
       "      <th></th>\n",
       "      <th>0</th>\n",
       "      <th>1</th>\n",
       "      <th>2</th>\n",
       "      <th>3</th>\n",
       "      <th>4</th>\n",
       "    </tr>\n",
       "  </thead>\n",
       "  <tbody>\n",
       "    <tr>\n",
       "      <th>0</th>\n",
       "      <td>2000-03-23</td>\n",
       "      <td>Rockies</td>\n",
       "      <td></td>\n",
       "      <td>• John Thomson</td>\n",
       "      <td>placed on 60-day DL recovering from surgery o...</td>\n",
       "    </tr>\n",
       "    <tr>\n",
       "      <th>1</th>\n",
       "      <td>2000-04-01</td>\n",
       "      <td>Devil Rays</td>\n",
       "      <td></td>\n",
       "      <td>• Wilson Alvarez</td>\n",
       "      <td>placed on DL</td>\n",
       "    </tr>\n",
       "    <tr>\n",
       "      <th>2</th>\n",
       "      <td>2000-04-01</td>\n",
       "      <td>Dodgers</td>\n",
       "      <td></td>\n",
       "      <td>• Antonio Osuna</td>\n",
       "      <td>placed on 15-day DL</td>\n",
       "    </tr>\n",
       "    <tr>\n",
       "      <th>3</th>\n",
       "      <td>2000-04-08</td>\n",
       "      <td>Mets</td>\n",
       "      <td></td>\n",
       "      <td>• Darryl Hamilton</td>\n",
       "      <td>placed on 15-day DL with sprained left foot</td>\n",
       "    </tr>\n",
       "    <tr>\n",
       "      <th>4</th>\n",
       "      <td>2000-04-08</td>\n",
       "      <td>Orioles</td>\n",
       "      <td></td>\n",
       "      <td>• Mike Timlin</td>\n",
       "      <td>placed on 15-day DL with strained abdominal</td>\n",
       "    </tr>\n",
       "  </tbody>\n",
       "</table>\n",
       "</div>"
      ],
      "text/plain": [
       "            0            1  2                   3  \\\n",
       "0  2000-03-23      Rockies         • John Thomson   \n",
       "1  2000-04-01   Devil Rays       • Wilson Alvarez   \n",
       "2  2000-04-01      Dodgers        • Antonio Osuna   \n",
       "3  2000-04-08         Mets      • Darryl Hamilton   \n",
       "4  2000-04-08      Orioles          • Mike Timlin   \n",
       "\n",
       "                                                   4  \n",
       "0   placed on 60-day DL recovering from surgery o...  \n",
       "1                                       placed on DL  \n",
       "2                                placed on 15-day DL  \n",
       "3        placed on 15-day DL with sprained left foot  \n",
       "4        placed on 15-day DL with strained abdominal  "
      ]
     },
     "execution_count": 22,
     "metadata": {},
     "output_type": "execute_result"
    }
   ],
   "source": [
    "df = pd.DataFrame()\n",
    "# Get a list of dictionaries for the injuries \n",
    "injuries_data = []\n",
    "for i in range(0,657): # number of page increments plus one\n",
    "    url_string = \"http://www.prosportstransactions.com/baseball/Search/SearchResults.php?Player=&Team=&BeginDate=2000-03-01&EndDate=2016-10-31&DLChkBx=yes&submit=Search&start=\"+str(25* i )\n",
    "    req = requests.get(url_string)\n",
    "    soup = BeautifulSoup(req.content, 'lxml')\n",
    "    for item in soup.find_all(\"tr\", {\"align\":\"left\"}):# Code for each individual page to capture data\n",
    "        raw_text = item.text.strip().split(\"\\n\")\n",
    "        injuries_data.append(raw_text)\n",
    "\n",
    "# Create a dataframe from the injuries data for 723 pages, with 25 per page = 18075 ish        \n",
    "df = pd.DataFrame(injuries_data)\n",
    "df.head()"
   ]
  },
  {
   "cell_type": "code",
   "execution_count": 26,
   "metadata": {
    "scrolled": false
   },
   "outputs": [
    {
     "data": {
      "text/html": [
       "<div>\n",
       "<style scoped>\n",
       "    .dataframe tbody tr th:only-of-type {\n",
       "        vertical-align: middle;\n",
       "    }\n",
       "\n",
       "    .dataframe tbody tr th {\n",
       "        vertical-align: top;\n",
       "    }\n",
       "\n",
       "    .dataframe thead th {\n",
       "        text-align: right;\n",
       "    }\n",
       "</style>\n",
       "<table border=\"1\" class=\"dataframe\">\n",
       "  <thead>\n",
       "    <tr style=\"text-align: right;\">\n",
       "      <th></th>\n",
       "      <th>Date</th>\n",
       "      <th>Team</th>\n",
       "      <th>Acquired</th>\n",
       "      <th>Name</th>\n",
       "      <th>Notes</th>\n",
       "    </tr>\n",
       "  </thead>\n",
       "  <tbody>\n",
       "    <tr>\n",
       "      <th>0</th>\n",
       "      <td>2000-03-23</td>\n",
       "      <td>Rockies</td>\n",
       "      <td></td>\n",
       "      <td>• John Thomson</td>\n",
       "      <td>placed on 60-day DL recovering from surgery o...</td>\n",
       "    </tr>\n",
       "    <tr>\n",
       "      <th>1</th>\n",
       "      <td>2000-04-01</td>\n",
       "      <td>Devil Rays</td>\n",
       "      <td></td>\n",
       "      <td>• Wilson Alvarez</td>\n",
       "      <td>placed on DL</td>\n",
       "    </tr>\n",
       "    <tr>\n",
       "      <th>2</th>\n",
       "      <td>2000-04-01</td>\n",
       "      <td>Dodgers</td>\n",
       "      <td></td>\n",
       "      <td>• Antonio Osuna</td>\n",
       "      <td>placed on 15-day DL</td>\n",
       "    </tr>\n",
       "    <tr>\n",
       "      <th>3</th>\n",
       "      <td>2000-04-08</td>\n",
       "      <td>Mets</td>\n",
       "      <td></td>\n",
       "      <td>• Darryl Hamilton</td>\n",
       "      <td>placed on 15-day DL with sprained left foot</td>\n",
       "    </tr>\n",
       "    <tr>\n",
       "      <th>4</th>\n",
       "      <td>2000-04-08</td>\n",
       "      <td>Orioles</td>\n",
       "      <td></td>\n",
       "      <td>• Mike Timlin</td>\n",
       "      <td>placed on 15-day DL with strained abdominal</td>\n",
       "    </tr>\n",
       "  </tbody>\n",
       "</table>\n",
       "</div>"
      ],
      "text/plain": [
       "         Date         Team Acquired                Name  \\\n",
       "0  2000-03-23      Rockies               • John Thomson   \n",
       "1  2000-04-01   Devil Rays             • Wilson Alvarez   \n",
       "2  2000-04-01      Dodgers              • Antonio Osuna   \n",
       "3  2000-04-08         Mets            • Darryl Hamilton   \n",
       "4  2000-04-08      Orioles                • Mike Timlin   \n",
       "\n",
       "                                               Notes  \n",
       "0   placed on 60-day DL recovering from surgery o...  \n",
       "1                                       placed on DL  \n",
       "2                                placed on 15-day DL  \n",
       "3        placed on 15-day DL with sprained left foot  \n",
       "4        placed on 15-day DL with strained abdominal  "
      ]
     },
     "execution_count": 26,
     "metadata": {},
     "output_type": "execute_result"
    }
   ],
   "source": [
    "df.columns = ['Date','Team','Acquired','Name','Notes']\n",
    "df.head()"
   ]
  },
  {
   "cell_type": "code",
   "execution_count": 149,
   "metadata": {},
   "outputs": [
    {
     "data": {
      "text/plain": [
       "(16403, 6)"
      ]
     },
     "execution_count": 149,
     "metadata": {},
     "output_type": "execute_result"
    }
   ],
   "source": [
    "df.shape"
   ]
  },
  {
   "cell_type": "code",
   "execution_count": 150,
   "metadata": {
    "collapsed": true
   },
   "outputs": [],
   "source": [
    "# Let's make a copy to keep the original web scraped data safe\n",
    "injury_df = pd.DataFrame(df).copy()"
   ]
  },
  {
   "cell_type": "code",
   "execution_count": 151,
   "metadata": {
    "collapsed": true
   },
   "outputs": [],
   "source": [
    "# The Acquired and Name columns don't have nulls but they should. \n",
    "# They have ' '\n",
    "injury_df.Acquired = injury_df.Acquired.apply(lambda x: np.nan if x == ' ' else x.replace('•','').split(' / ')[0])"
   ]
  },
  {
   "cell_type": "code",
   "execution_count": 152,
   "metadata": {
    "collapsed": true
   },
   "outputs": [],
   "source": [
    "# Get rid of the bullet point and second names for the player names for what used to be the relinquished col\n",
    "injury_df.Name = injury_df.Name.apply(lambda x: np.nan if x == ' ' else x.replace('•','').split(' / ')[0])"
   ]
  },
  {
   "cell_type": "code",
   "execution_count": 153,
   "metadata": {
    "collapsed": true
   },
   "outputs": [],
   "source": [
    "def filter_notes_for_DL(notes):\n",
    "    \"\"\"Function parses notes column for number\n",
    "    of days player was relinquished to the DL.\n",
    "    Returns the number, 7, 10, 15, 60 or 0.\"\"\"\n",
    "    if '15' in notes:\n",
    "        return 15\n",
    "    elif '60' in notes:\n",
    "        return 60\n",
    "    elif '10' in notes:\n",
    "        return 10\n",
    "    elif '7' in notes:\n",
    "        return 7\n",
    "    elif 'restricted' in notes:\n",
    "        return 0\n",
    "    elif 'temporary' in notes:\n",
    "        return 0\n",
    "    else:\n",
    "        return 0\n",
    "    \n",
    "# Create a column that lists the length the player was on the list DL\n",
    "injury_df['DL_length'] = injury_df.Notes.map(filter_notes_for_DL)"
   ]
  },
  {
   "cell_type": "code",
   "execution_count": 154,
   "metadata": {
    "collapsed": true
   },
   "outputs": [],
   "source": [
    "injury_df.Name.isnull().sum()\n",
    "# 7115 \n",
    "\n",
    "# Create a dummy column that is 1 if the row represents an injury \n",
    "# or a 0 if the row represents a player reactivated.\n",
    "injury_df['Injured'] = injury_df.Name.map(lambda x: 1 if pd.notnull(x) else 0)\n",
    "# Value Counts for Injury:\n",
    "# 1    9288\n",
    "# 0    7115"
   ]
  },
  {
   "cell_type": "code",
   "execution_count": 155,
   "metadata": {},
   "outputs": [
    {
     "data": {
      "text/plain": [
       "0      placed on 60-day DL recovering from surgery o...\n",
       "1                                          placed on DL\n",
       "2                                   placed on 15-day DL\n",
       "3           placed on 15-day DL with sprained left foot\n",
       "4           placed on 15-day DL with strained abdominal\n",
       "5               placed on 15-day DL with strained groin\n",
       "6                              activated from 15-day DL\n",
       "7                                   placed on 15-day DL\n",
       "8                                   placed on 15-day DL\n",
       "9                              activated from 15-day DL\n",
       "10                                  placed on 15-day DL\n",
       "11                             activated from 15-day DL\n",
       "12                             activated from 15-day DL\n",
       "13                                  placed on 15-day DL\n",
       "14                             activated from 15-day DL\n",
       "15                                  placed on 15-day DL\n",
       "16                             transferred to 60-day DL\n",
       "17                                  placed on 60-day DL\n",
       "18                             activated from 15-day DL\n",
       "19                             activated from 15-day DL\n",
       "Name: Notes, dtype: object"
      ]
     },
     "execution_count": 155,
     "metadata": {},
     "output_type": "execute_result"
    }
   ],
   "source": [
    "# Start to extract the number out of the Notes column.\n",
    "# Replace the hyphen in '15-day' with a space to help splitting and extracting digits.\n",
    "#injury_df.Notes = injury_df.Notes.apply(lambda x: x.replace('-',' '))\n",
    "\n",
    "def extract_injury(notes):\n",
    "    \"\"\"Function parses notes column\n",
    "    to obtain the injury type and returns a string\"\"\"\n",
    "    if len(notes.split('DL')) >= 2:\n",
    "        if len(notes.split('with')) > 1:\n",
    "            return notes.split('with')[1]\n",
    "        elif len(notes.split('recovering from')) > 1:\n",
    "            return notes.split('recovering from')[1]\n",
    "        else:\n",
    "            if notes.split('DL')[1] == '':\n",
    "                return \"unknown\"\n",
    "            else:\n",
    "                return notes.split('DL')[1]\n",
    "    else:\n",
    "        return 'unknown'\n",
    "\n",
    "injury_df.Notes.head(20)"
   ]
  },
  {
   "cell_type": "code",
   "execution_count": 156,
   "metadata": {},
   "outputs": [
    {
     "data": {
      "text/plain": [
       "0     surgery on shoulder\n",
       "1                 unknown\n",
       "2                 unknown\n",
       "3      sprained left foot\n",
       "4      strained abdominal\n",
       "Name: Injury_Type, dtype: object"
      ]
     },
     "execution_count": 156,
     "metadata": {},
     "output_type": "execute_result"
    }
   ],
   "source": [
    "# Create a column that describes the type of injury based on the notes column using\n",
    "# the function I created: extract_injury, df['Injury_Type']\n",
    "injury_df['Injury_Type'] = df.Notes.map(extract_injury)\n",
    "injury_df['Injury_Type'].head()"
   ]
  },
  {
   "cell_type": "code",
   "execution_count": 157,
   "metadata": {
    "scrolled": true
   },
   "outputs": [
    {
     "data": {
      "text/plain": [
       "unknown                                                                                    0.488935\n",
       " strained left hamstring                                                                   0.015668\n",
       " right shoulder inflammation                                                               0.012498\n",
       " strained right hamstring                                                                  0.012193\n",
       " strained right shoulder                                                                   0.009632\n",
       " concussion                                                                                0.008596\n",
       " strained left oblique                                                                     0.008413\n",
       " right elbow inflammation                                                                  0.008352\n",
       " strained lower back                                                                       0.007499\n",
       " right shoulder tendinitis                                                                 0.007011\n",
       " strained right groin                                                                      0.006706\n",
       " ligament replacement (\"Tommy John\") surgery on right elbow                                0.006462\n",
       " strained right elbow                                                                      0.005975\n",
       " strained left shoulder                                                                    0.005365\n",
       " strained left groin                                                                       0.005365\n",
       " surgery on right shoulder                                                                 0.005243\n",
       " strained right forearm                                                                    0.004755\n",
       " surgery on right elbow                                                                    0.004694\n",
       " sore right shoulder                                                                       0.003902\n",
       " sprained left ankle                                                                       0.003902\n",
       " sprained right ankle                                                                      0.003841\n",
       " strained left calf                                                                        0.003536\n",
       " strained left oblique muscle                                                              0.003353\n",
       " strained right quadriceps                                                                 0.003109\n",
       " left elbow inflammation                                                                   0.003109\n",
       " strained right calf                                                                       0.003048\n",
       " sore right elbow                                                                          0.003048\n",
       " fractured left hand                                                                       0.002987\n",
       " strained right oblique muscle                                                             0.002804\n",
       " strained right oblique                                                                    0.002743\n",
       "                                                                                             ...   \n",
       " left toe ailment                                                                          0.000061\n",
       " right quadriceps injury                                                                   0.000061\n",
       " left shoulder inflammation (surgery)                                                      0.000061\n",
       " stomach ailment / gastrointestinal virus                                                  0.000061\n",
       " left bicep injury                                                                         0.000061\n",
       " left leg hematoma                                                                         0.000061\n",
       " strained right shoulder / right arm fatigue (CBS) / arm injury (MLB)                      0.000061\n",
       " surgery on right wrist (out for season)                                                   0.000061\n",
       " right calf nerve irritation                                                               0.000061\n",
       " strained right lumbar                                                                     0.000061\n",
       " bruised left eye                                                                          0.000061\n",
       " strained right quadriceps (MLB)                                                           0.000061\n",
       " bone bruise to left thumb                                                                 0.000061\n",
       " right forearm injury / sore right elbow                                                   0.000061\n",
       " strained muscle in right shoulder (out for season)                                        0.000061\n",
       " stress fracture in right hand                                                             0.000061\n",
       " strained tendon in right elbow                                                            0.000061\n",
       " bruised left ribcage                                                                      0.000061\n",
       " right calf tendinitis                                                                     0.000061\n",
       " strained right peroneal (lower right knee)                                                0.000061\n",
       " left wrist impingement (CBC CBS E MLB S)                                                  0.000061\n",
       " fractured skull / post-concussion symptoms                                                0.000061\n",
       " strained lower left abdominal                                                             0.000061\n",
       " right ankle inflammation                                                                  0.000061\n",
       " bruised patella tendon in right knee                                                      0.000061\n",
       " strained left calf (right calf per some sources)                                          0.000061\n",
       " surgery on rigth shoulder to repair stress fracture in shoulder blade (out for season)    0.000061\n",
       " bone bruise in left foot                                                                  0.000061\n",
       " lower back pain secondary to spondylolisthesis                                            0.000061\n",
       " weak right shoulder                                                                       0.000061\n",
       "Name: Injury_Type, Length: 2300, dtype: float64"
      ]
     },
     "execution_count": 157,
     "metadata": {},
     "output_type": "execute_result"
    }
   ],
   "source": [
    "# What kind of injuries are we looking at? \n",
    "# 49% of the DL list placements did not have a description of the injury, and the rest account for less than 2%\n",
    "# of all injuries (because the variation in description prevents cataloging)\n",
    "injury_df['Injury_Type'].value_counts(normalize=True)"
   ]
  },
  {
   "cell_type": "code",
   "execution_count": 85,
   "metadata": {},
   "outputs": [
    {
     "data": {
      "text/plain": [
       "0    20000323\n",
       "1    20000401\n",
       "2    20000401\n",
       "3    20000408\n",
       "4    20000408\n",
       "Name: Date, dtype: object"
      ]
     },
     "execution_count": 85,
     "metadata": {},
     "output_type": "execute_result"
    }
   ],
   "source": [
    "# Let's change the date to match the baseball gamelogs:\n",
    "injury_df['Date'] = injury_df['Date'].map(lambda x: x.replace('-',''))\n",
    "injury_df['Date'].head()"
   ]
  },
  {
   "cell_type": "markdown",
   "metadata": {},
   "source": [
    "### Optional: Import team 3-letter abbreviations to append to the dataframe that will link this to the gamelog data:"
   ]
  },
  {
   "cell_type": "code",
   "execution_count": 86,
   "metadata": {
    "collapsed": true
   },
   "outputs": [],
   "source": [
    "file = 'TeamCurrentNames.csv'\n",
    "team_slugs_df = pd.read_csv(file,header=None)\n",
    "team_slugs_df.columns = ['old_slug','new_slug','league', \n",
    "                         'division','location','nickname','alt_nick','date_start','date_end','city','state']\n",
    "# Cut the dataframe down to slugs that are recent since 2000 or still current\n",
    "team_slugs_df['date_end'] = pd.to_datetime(team_slugs_df['date_end'])\n",
    "team_slugs_df = team_slugs_df[(team_slugs_df['date_end'] > '03/01/2000') | (team_slugs_df['date_end'].isnull())]"
   ]
  },
  {
   "cell_type": "code",
   "execution_count": 87,
   "metadata": {
    "scrolled": true
   },
   "outputs": [
    {
     "data": {
      "text/html": [
       "<div>\n",
       "<style scoped>\n",
       "    .dataframe tbody tr th:only-of-type {\n",
       "        vertical-align: middle;\n",
       "    }\n",
       "\n",
       "    .dataframe tbody tr th {\n",
       "        vertical-align: top;\n",
       "    }\n",
       "\n",
       "    .dataframe thead th {\n",
       "        text-align: right;\n",
       "    }\n",
       "</style>\n",
       "<table border=\"1\" class=\"dataframe\">\n",
       "  <thead>\n",
       "    <tr style=\"text-align: right;\">\n",
       "      <th></th>\n",
       "      <th>old_slug</th>\n",
       "      <th>new_slug</th>\n",
       "      <th>league</th>\n",
       "      <th>division</th>\n",
       "      <th>location</th>\n",
       "      <th>nickname</th>\n",
       "      <th>alt_nick</th>\n",
       "      <th>date_start</th>\n",
       "      <th>date_end</th>\n",
       "      <th>city</th>\n",
       "      <th>state</th>\n",
       "    </tr>\n",
       "  </thead>\n",
       "  <tbody>\n",
       "    <tr>\n",
       "      <th>3</th>\n",
       "      <td>ANA</td>\n",
       "      <td>ANA</td>\n",
       "      <td>AL</td>\n",
       "      <td>W</td>\n",
       "      <td>Anaheim</td>\n",
       "      <td>Angels</td>\n",
       "      <td>NaN</td>\n",
       "      <td>4/2/1997</td>\n",
       "      <td>2004-10-03</td>\n",
       "      <td>Anaheim</td>\n",
       "      <td>CA</td>\n",
       "    </tr>\n",
       "    <tr>\n",
       "      <th>4</th>\n",
       "      <td>ANA</td>\n",
       "      <td>ANA</td>\n",
       "      <td>AL</td>\n",
       "      <td>W</td>\n",
       "      <td>Los Angeles</td>\n",
       "      <td>Angels</td>\n",
       "      <td>NaN</td>\n",
       "      <td>4/5/2005</td>\n",
       "      <td>NaT</td>\n",
       "      <td>Anaheim</td>\n",
       "      <td>CA</td>\n",
       "    </tr>\n",
       "    <tr>\n",
       "      <th>5</th>\n",
       "      <td>ARI</td>\n",
       "      <td>ARI</td>\n",
       "      <td>NL</td>\n",
       "      <td>W</td>\n",
       "      <td>Arizona</td>\n",
       "      <td>Diamondbacks</td>\n",
       "      <td>NaN</td>\n",
       "      <td>3/31/1998</td>\n",
       "      <td>NaT</td>\n",
       "      <td>Phoenix</td>\n",
       "      <td>AZ</td>\n",
       "    </tr>\n",
       "    <tr>\n",
       "      <th>17</th>\n",
       "      <td>ATL</td>\n",
       "      <td>ATL</td>\n",
       "      <td>NL</td>\n",
       "      <td>E</td>\n",
       "      <td>Atlanta</td>\n",
       "      <td>Braves</td>\n",
       "      <td>NaN</td>\n",
       "      <td>4/4/1994</td>\n",
       "      <td>NaT</td>\n",
       "      <td>Atlanta</td>\n",
       "      <td>GA</td>\n",
       "    </tr>\n",
       "    <tr>\n",
       "      <th>21</th>\n",
       "      <td>BAL</td>\n",
       "      <td>BAL</td>\n",
       "      <td>AL</td>\n",
       "      <td>E</td>\n",
       "      <td>Baltimore</td>\n",
       "      <td>Orioles</td>\n",
       "      <td>NaN</td>\n",
       "      <td>4/8/1969</td>\n",
       "      <td>NaT</td>\n",
       "      <td>Baltimore</td>\n",
       "      <td>MD</td>\n",
       "    </tr>\n",
       "  </tbody>\n",
       "</table>\n",
       "</div>"
      ],
      "text/plain": [
       "   old_slug new_slug league division     location      nickname alt_nick  \\\n",
       "3       ANA      ANA     AL        W      Anaheim        Angels      NaN   \n",
       "4       ANA      ANA     AL        W  Los Angeles        Angels      NaN   \n",
       "5       ARI      ARI     NL        W      Arizona  Diamondbacks      NaN   \n",
       "17      ATL      ATL     NL        E      Atlanta        Braves      NaN   \n",
       "21      BAL      BAL     AL        E    Baltimore       Orioles      NaN   \n",
       "\n",
       "   date_start   date_end       city state  \n",
       "3    4/2/1997 2004-10-03    Anaheim    CA  \n",
       "4    4/5/2005        NaT    Anaheim    CA  \n",
       "5   3/31/1998        NaT    Phoenix    AZ  \n",
       "17   4/4/1994        NaT    Atlanta    GA  \n",
       "21   4/8/1969        NaT  Baltimore    MD  "
      ]
     },
     "execution_count": 87,
     "metadata": {},
     "output_type": "execute_result"
    }
   ],
   "source": [
    "team_slugs_df.head()"
   ]
  },
  {
   "cell_type": "code",
   "execution_count": 88,
   "metadata": {
    "collapsed": true
   },
   "outputs": [],
   "source": [
    "team_slugs_mini = team_slugs_df[['new_slug','nickname']]\n",
    "team_slugs_mini.set_index('nickname', inplace=True)\n",
    "\n",
    "# Turn team_slug_df into key:value pairs\n",
    "team_slugs_dict = team_slugs_mini.to_dict()['new_slug']"
   ]
  },
  {
   "cell_type": "markdown",
   "metadata": {},
   "source": [
    "### Using the dictionary with slugs and team names, I'm going to use fuzzywuzzy to find the closest for the injury_df 'Team' name in the team_slugs_df. \n",
    "* The method of FuzzyWuzzy extracts any number of similar items to the first value you give it, which in this case will be the cell in the column of 'Team'. e.g. 'Orioles' in injury_df['Team'] should by closes to 'Orioles' in the dictionary, which is the key for the value of the slug 'BAL'. \n",
    "* The 3-letter slug abbreviation will be saved as a new column, which becomes the primary key to merge the two databases togehter: injury_df['team_id']"
   ]
  },
  {
   "cell_type": "code",
   "execution_count": 89,
   "metadata": {},
   "outputs": [
    {
     "name": "stderr",
     "output_type": "stream",
     "text": [
      "/Users/freedom/anaconda3/lib/python3.6/site-packages/fuzzywuzzy/fuzz.py:35: UserWarning: Using slow pure-python SequenceMatcher. Install python-Levenshtein to remove this warning\n",
      "  warnings.warn('Using slow pure-python SequenceMatcher. Install python-Levenshtein to remove this warning')\n"
     ]
    }
   ],
   "source": [
    "from fuzzywuzzy import fuzz\n",
    "from fuzzywuzzy import process"
   ]
  },
  {
   "cell_type": "code",
   "execution_count": 158,
   "metadata": {
    "collapsed": true
   },
   "outputs": [],
   "source": [
    "injury_df['team_id'] = injury_df['Team'].apply(lambda x: team_slugs_dict[process.extract(x, team_slugs_dict.keys(), limit=1)[0][0]])"
   ]
  },
  {
   "cell_type": "code",
   "execution_count": 163,
   "metadata": {},
   "outputs": [
    {
     "data": {
      "text/plain": [
       "Index(['Date', 'Team', 'Acquired', 'Name', 'Notes', 'DL_length', 'Injured',\n",
       "       'Injury_Type', 'team_id'],\n",
       "      dtype='object')"
      ]
     },
     "execution_count": 163,
     "metadata": {},
     "output_type": "execute_result"
    }
   ],
   "source": [
    "injury_df.columns\n"
   ]
  },
  {
   "cell_type": "code",
   "execution_count": 166,
   "metadata": {
    "scrolled": true
   },
   "outputs": [
    {
     "data": {
      "text/html": [
       "<div>\n",
       "<style scoped>\n",
       "    .dataframe tbody tr th:only-of-type {\n",
       "        vertical-align: middle;\n",
       "    }\n",
       "\n",
       "    .dataframe tbody tr th {\n",
       "        vertical-align: top;\n",
       "    }\n",
       "\n",
       "    .dataframe thead th {\n",
       "        text-align: right;\n",
       "    }\n",
       "</style>\n",
       "<table border=\"1\" class=\"dataframe\">\n",
       "  <thead>\n",
       "    <tr style=\"text-align: right;\">\n",
       "      <th></th>\n",
       "      <th>Date</th>\n",
       "      <th>Team</th>\n",
       "      <th>Name</th>\n",
       "      <th>DL_length</th>\n",
       "      <th>team_id</th>\n",
       "    </tr>\n",
       "  </thead>\n",
       "  <tbody>\n",
       "    <tr>\n",
       "      <th>0</th>\n",
       "      <td>2000-03-23</td>\n",
       "      <td>Rockies</td>\n",
       "      <td>John Thomson</td>\n",
       "      <td>60</td>\n",
       "      <td>COL</td>\n",
       "    </tr>\n",
       "    <tr>\n",
       "      <th>1</th>\n",
       "      <td>2000-04-01</td>\n",
       "      <td>Devil Rays</td>\n",
       "      <td>Wilson Alvarez</td>\n",
       "      <td>0</td>\n",
       "      <td>TBA</td>\n",
       "    </tr>\n",
       "    <tr>\n",
       "      <th>2</th>\n",
       "      <td>2000-04-01</td>\n",
       "      <td>Dodgers</td>\n",
       "      <td>Antonio Osuna</td>\n",
       "      <td>15</td>\n",
       "      <td>LAN</td>\n",
       "    </tr>\n",
       "    <tr>\n",
       "      <th>3</th>\n",
       "      <td>2000-04-08</td>\n",
       "      <td>Mets</td>\n",
       "      <td>Darryl Hamilton</td>\n",
       "      <td>15</td>\n",
       "      <td>NYN</td>\n",
       "    </tr>\n",
       "    <tr>\n",
       "      <th>4</th>\n",
       "      <td>2000-04-08</td>\n",
       "      <td>Orioles</td>\n",
       "      <td>Mike Timlin</td>\n",
       "      <td>15</td>\n",
       "      <td>BAL</td>\n",
       "    </tr>\n",
       "  </tbody>\n",
       "</table>\n",
       "</div>"
      ],
      "text/plain": [
       "         Date         Team               Name  DL_length team_id\n",
       "0  2000-03-23      Rockies       John Thomson         60     COL\n",
       "1  2000-04-01   Devil Rays     Wilson Alvarez          0     TBA\n",
       "2  2000-04-01      Dodgers      Antonio Osuna         15     LAN\n",
       "3  2000-04-08         Mets    Darryl Hamilton         15     NYN\n",
       "4  2000-04-08      Orioles        Mike Timlin         15     BAL"
      ]
     },
     "execution_count": 166,
     "metadata": {},
     "output_type": "execute_result"
    }
   ],
   "source": [
    "# Select only the columns we need for the game log matching (except keep Injured for the next step alone)\n",
    "cols = ['Date', 'Team','Name', 'DL_length','Injured', 'team_id']\n",
    "df_injury_sm = injury_df[cols]\n",
    "\n",
    "# Remove rows where df_injury_sm['Injury']==0 because we only want injuries, not activations\n",
    "print('Before removing reactivations:',df_injury_sm.shape)\n",
    "df_injury_sm = df_injury_sm[df_injury_sm.Injured != 0]\n",
    "print('With only placements onto the Disabled List:',df_injury_sm.shape)\n",
    "\n",
    "# Now get rid of the Injured column\n",
    "df_injury_sm.drop('Injured', inplace=True, axis=1)\n",
    "df_injury_sm.head()"
   ]
  },
  {
   "cell_type": "markdown",
   "metadata": {},
   "source": [
    "### Merge player_id from MLBPlayerIDs.txt file."
   ]
  },
  {
   "cell_type": "code",
   "execution_count": 126,
   "metadata": {
    "scrolled": true
   },
   "outputs": [
    {
     "name": "stdout",
     "output_type": "stream",
     "text": [
      "Index(['ID', 'Last', 'First', 'Player debut', 'Mgr debut', 'Coach debut',\n",
      "       'Ump debut'],\n",
      "      dtype='object')\n"
     ]
    },
    {
     "data": {
      "text/html": [
       "<div>\n",
       "<style scoped>\n",
       "    .dataframe tbody tr th:only-of-type {\n",
       "        vertical-align: middle;\n",
       "    }\n",
       "\n",
       "    .dataframe tbody tr th {\n",
       "        vertical-align: top;\n",
       "    }\n",
       "\n",
       "    .dataframe thead th {\n",
       "        text-align: right;\n",
       "    }\n",
       "</style>\n",
       "<table border=\"1\" class=\"dataframe\">\n",
       "  <thead>\n",
       "    <tr style=\"text-align: right;\">\n",
       "      <th></th>\n",
       "      <th>ID</th>\n",
       "      <th>Last</th>\n",
       "      <th>First</th>\n",
       "      <th>Player_debut</th>\n",
       "    </tr>\n",
       "  </thead>\n",
       "  <tbody>\n",
       "    <tr>\n",
       "      <th>0</th>\n",
       "      <td>aardd001</td>\n",
       "      <td>Aardsma</td>\n",
       "      <td>David</td>\n",
       "      <td>04/06/2004</td>\n",
       "    </tr>\n",
       "    <tr>\n",
       "      <th>1</th>\n",
       "      <td>aaroh101</td>\n",
       "      <td>Aaron</td>\n",
       "      <td>Hank</td>\n",
       "      <td>04/13/1954</td>\n",
       "    </tr>\n",
       "    <tr>\n",
       "      <th>2</th>\n",
       "      <td>aarot101</td>\n",
       "      <td>Aaron</td>\n",
       "      <td>Tommie</td>\n",
       "      <td>04/10/1962</td>\n",
       "    </tr>\n",
       "    <tr>\n",
       "      <th>3</th>\n",
       "      <td>aased001</td>\n",
       "      <td>Aase</td>\n",
       "      <td>Don</td>\n",
       "      <td>07/26/1977</td>\n",
       "    </tr>\n",
       "    <tr>\n",
       "      <th>4</th>\n",
       "      <td>abada001</td>\n",
       "      <td>Abad</td>\n",
       "      <td>Andy</td>\n",
       "      <td>09/10/2001</td>\n",
       "    </tr>\n",
       "  </tbody>\n",
       "</table>\n",
       "</div>"
      ],
      "text/plain": [
       "         ID     Last   First Player_debut\n",
       "0  aardd001  Aardsma   David   04/06/2004\n",
       "1  aaroh101    Aaron    Hank   04/13/1954\n",
       "2  aarot101    Aaron  Tommie   04/10/1962\n",
       "3  aased001     Aase     Don   07/26/1977\n",
       "4  abada001     Abad    Andy   09/10/2001"
      ]
     },
     "execution_count": 126,
     "metadata": {},
     "output_type": "execute_result"
    }
   ],
   "source": [
    "# Add player id from retrosheet.org info\n",
    "file = 'MLBPlayerIDs.txt'\n",
    "ids = pd.read_csv(file)\n",
    "print(ids.columns)\n",
    "\n",
    "# The file rows are wrapped in \"\", so I'll strip the rows into columns the long way:\n",
    "ids.columns\n",
    "player_ids = pd.DataFrame(columns=['ID', 'Last', 'First', 'Player_debut', 'Mgr_debut', 'Coach_debut','Ump_debut'])\n",
    "player_ids['ID'] = ids.ID.apply(lambda x: x.split(',')[0])\n",
    "player_ids['Last'] = ids.ID.apply(lambda x: x.split(',')[1].strip('\"'))\n",
    "player_ids['First'] = ids.ID.apply(lambda x: x.split(',')[2].strip('\"'))\n",
    "player_ids['Player_debut'] = ids.ID.apply(lambda x: x.split(',')[3])\n",
    "player_ids['Mgr_debut'] = ids.ID.apply(lambda x: x.split(',')[4])\n",
    "player_ids['Coach_debut'] = ids.ID.apply(lambda x: x.split(',')[5])\n",
    "player_ids['Ump_debut'] = ids.ID.apply(lambda x: x.split(',')[6])\n",
    "player_ids.drop(['Mgr_debut','Coach_debut','Ump_debut'],axis=1,inplace=True)\n",
    "player_ids.head()"
   ]
  },
  {
   "cell_type": "code",
   "execution_count": 136,
   "metadata": {
    "scrolled": true
   },
   "outputs": [
    {
     "data": {
      "text/plain": [
       "(7966, 4)"
      ]
     },
     "execution_count": 136,
     "metadata": {},
     "output_type": "execute_result"
    }
   ],
   "source": [
    "# The entire database of players, managers and umpires holds 20,493 unique ids. I don't need the \n",
    "# guys who played in the 1800s, sadly.\n",
    "print('Before cutting out the old guys',player_ids.shape)\n",
    "\n",
    "# Reduce the table down to those players who debuted after 1975 (who would have been 25 year veterans )\n",
    "\n",
    "# Turn the Player_debut column into a datetime object rather than a string:\n",
    "player_ids.Player_debut = pd.to_datetime(player_ids.Player_debut, infer_datetime_format=True)\n",
    "\n",
    "# Select debut dates after 1975-03-15\n",
    "player_ids = player_ids[player_ids.Player_debut > '1975-03-15']\n",
    "\n",
    "# After reducing the dataframe to just post 1975 debuts, there are less than 8000 rows left. Reduced by half.\n",
    "print('After cutting out the old guys',player_ids.shape)"
   ]
  },
  {
   "cell_type": "code",
   "execution_count": 144,
   "metadata": {
    "collapsed": true
   },
   "outputs": [],
   "source": [
    "# Merge the injury_df with the player_ids is complex because the injury_df has full name that may or may not match\n",
    "player_ids['Full_Name'] = player_ids.apply(lambda x: x.loc['First'] +' ' +x.loc['Last'], axis=1)"
   ]
  },
  {
   "cell_type": "code",
   "execution_count": 197,
   "metadata": {
    "collapsed": true
   },
   "outputs": [],
   "source": [
    "# There seems to be a problem with the names of the injury df having whitespace characters around them:\n",
    "df_injury_sm.Name = df_injury_sm.Name.apply(lambda x: x.strip())"
   ]
  },
  {
   "cell_type": "code",
   "execution_count": 209,
   "metadata": {
    "collapsed": true
   },
   "outputs": [],
   "source": [
    "# Try to assign the id by row\n",
    "# for row in df_injury_sm:\n",
    "#     df_injury_sm['player_id'] = \n",
    "player_id_list = []\n",
    "# Iterate through each player injury in the injury database, \n",
    "for index, row in df_injury_sm.iterrows():\n",
    "    if np.sum(player_ids['Full_Name'] == row['Name']) >= 1:\n",
    "        player_id_list.append(player_ids[player_ids['Full_Name'] == row['Name']]['ID'].iloc[0,])\n",
    "    else:\n",
    "        player_id_list.append(np.nan)"
   ]
  },
  {
   "cell_type": "code",
   "execution_count": 220,
   "metadata": {},
   "outputs": [
    {
     "name": "stdout",
     "output_type": "stream",
     "text": [
      "Player_id dataframe shape\n",
      "(9288, 1)\n",
      "Injury dataframe shape\n",
      "(9288, 6)\n"
     ]
    }
   ],
   "source": [
    "# I ended up with 1273 null values, which means for 1273 players, there wasn't a perfect match in the list.\n",
    "# Go back later and try fuzzywuzzy.\n",
    "player_id_df = pd.DataFrame(player_id_list, columns=['player_id'])\n",
    "\n",
    "# Check to make sure the player_id column has the same number of rows as the injury_df before adding it:\n",
    "print('Player_id dataframe shape')\n",
    "print(player_id_df.shape)\n",
    "print('Injury dataframe shape')\n",
    "print(df_injury_sm.shape)"
   ]
  },
  {
   "cell_type": "code",
   "execution_count": 222,
   "metadata": {
    "collapsed": true
   },
   "outputs": [],
   "source": [
    "# Now that the full name is in the player_ids dataframe, I will try to merge this id into my injury_df\n",
    "df_injury_sm['player_id'] = player_id_df.values"
   ]
  },
  {
   "cell_type": "code",
   "execution_count": 224,
   "metadata": {
    "scrolled": true
   },
   "outputs": [
    {
     "name": "stdout",
     "output_type": "stream",
     "text": [
      "       player_id\n",
      "count       8015\n",
      "unique      2373\n",
      "top     beckj002\n",
      "freq          21\n",
      "count         8015\n",
      "unique        2373\n",
      "top       beckj002\n",
      "freq            21\n",
      "Name: player_id, dtype: object\n"
     ]
    }
   ],
   "source": [
    "# Check columns and values:\n",
    "print(player_id_df.describe())\n",
    "\n",
    "print(df_injury_sm['player_id'].describe())\n",
    "\n",
    "# Note: What's interesting is there are only 2373 unique player ids out of 8015. Multiple visits by the same \n",
    "# player -- but that's strange."
   ]
  },
  {
   "cell_type": "code",
   "execution_count": 225,
   "metadata": {
    "scrolled": true
   },
   "outputs": [
    {
     "data": {
      "text/html": [
       "<div>\n",
       "<style scoped>\n",
       "    .dataframe tbody tr th:only-of-type {\n",
       "        vertical-align: middle;\n",
       "    }\n",
       "\n",
       "    .dataframe tbody tr th {\n",
       "        vertical-align: top;\n",
       "    }\n",
       "\n",
       "    .dataframe thead th {\n",
       "        text-align: right;\n",
       "    }\n",
       "</style>\n",
       "<table border=\"1\" class=\"dataframe\">\n",
       "  <thead>\n",
       "    <tr style=\"text-align: right;\">\n",
       "      <th></th>\n",
       "      <th>Date</th>\n",
       "      <th>Team</th>\n",
       "      <th>Name</th>\n",
       "      <th>DL_length</th>\n",
       "      <th>team_id</th>\n",
       "      <th>player_id</th>\n",
       "    </tr>\n",
       "  </thead>\n",
       "  <tbody>\n",
       "    <tr>\n",
       "      <th>0</th>\n",
       "      <td>2000-03-23</td>\n",
       "      <td>Rockies</td>\n",
       "      <td>John Thomson</td>\n",
       "      <td>60</td>\n",
       "      <td>COL</td>\n",
       "      <td>thomj005</td>\n",
       "    </tr>\n",
       "    <tr>\n",
       "      <th>1</th>\n",
       "      <td>2000-04-01</td>\n",
       "      <td>Devil Rays</td>\n",
       "      <td>Wilson Alvarez</td>\n",
       "      <td>0</td>\n",
       "      <td>TBA</td>\n",
       "      <td>alvaw001</td>\n",
       "    </tr>\n",
       "    <tr>\n",
       "      <th>2</th>\n",
       "      <td>2000-04-01</td>\n",
       "      <td>Dodgers</td>\n",
       "      <td>Antonio Osuna</td>\n",
       "      <td>15</td>\n",
       "      <td>LAN</td>\n",
       "      <td>osuna002</td>\n",
       "    </tr>\n",
       "    <tr>\n",
       "      <th>3</th>\n",
       "      <td>2000-04-08</td>\n",
       "      <td>Mets</td>\n",
       "      <td>Darryl Hamilton</td>\n",
       "      <td>15</td>\n",
       "      <td>NYN</td>\n",
       "      <td>hamid001</td>\n",
       "    </tr>\n",
       "    <tr>\n",
       "      <th>4</th>\n",
       "      <td>2000-04-08</td>\n",
       "      <td>Orioles</td>\n",
       "      <td>Mike Timlin</td>\n",
       "      <td>15</td>\n",
       "      <td>BAL</td>\n",
       "      <td>timlm001</td>\n",
       "    </tr>\n",
       "  </tbody>\n",
       "</table>\n",
       "</div>"
      ],
      "text/plain": [
       "         Date         Team             Name  DL_length team_id player_id\n",
       "0  2000-03-23      Rockies     John Thomson         60     COL  thomj005\n",
       "1  2000-04-01   Devil Rays   Wilson Alvarez          0     TBA  alvaw001\n",
       "2  2000-04-01      Dodgers    Antonio Osuna         15     LAN  osuna002\n",
       "3  2000-04-08         Mets  Darryl Hamilton         15     NYN  hamid001\n",
       "4  2000-04-08      Orioles      Mike Timlin         15     BAL  timlm001"
      ]
     },
     "execution_count": 225,
     "metadata": {},
     "output_type": "execute_result"
    }
   ],
   "source": [
    "df_injury_sm.head()"
   ]
  },
  {
   "cell_type": "code",
   "execution_count": 226,
   "metadata": {
    "scrolled": true
   },
   "outputs": [
    {
     "data": {
      "text/html": [
       "<div>\n",
       "<style scoped>\n",
       "    .dataframe tbody tr th:only-of-type {\n",
       "        vertical-align: middle;\n",
       "    }\n",
       "\n",
       "    .dataframe tbody tr th {\n",
       "        vertical-align: top;\n",
       "    }\n",
       "\n",
       "    .dataframe thead th {\n",
       "        text-align: right;\n",
       "    }\n",
       "</style>\n",
       "<table border=\"1\" class=\"dataframe\">\n",
       "  <thead>\n",
       "    <tr style=\"text-align: right;\">\n",
       "      <th></th>\n",
       "      <th>Date</th>\n",
       "      <th>DL_length</th>\n",
       "      <th>player_id</th>\n",
       "    </tr>\n",
       "  </thead>\n",
       "  <tbody>\n",
       "    <tr>\n",
       "      <th>0</th>\n",
       "      <td>2000-03-23</td>\n",
       "      <td>60</td>\n",
       "      <td>thomj005</td>\n",
       "    </tr>\n",
       "    <tr>\n",
       "      <th>1</th>\n",
       "      <td>2000-04-01</td>\n",
       "      <td>0</td>\n",
       "      <td>alvaw001</td>\n",
       "    </tr>\n",
       "    <tr>\n",
       "      <th>2</th>\n",
       "      <td>2000-04-01</td>\n",
       "      <td>15</td>\n",
       "      <td>osuna002</td>\n",
       "    </tr>\n",
       "    <tr>\n",
       "      <th>3</th>\n",
       "      <td>2000-04-08</td>\n",
       "      <td>15</td>\n",
       "      <td>hamid001</td>\n",
       "    </tr>\n",
       "    <tr>\n",
       "      <th>4</th>\n",
       "      <td>2000-04-08</td>\n",
       "      <td>15</td>\n",
       "      <td>timlm001</td>\n",
       "    </tr>\n",
       "  </tbody>\n",
       "</table>\n",
       "</div>"
      ],
      "text/plain": [
       "         Date  DL_length player_id\n",
       "0  2000-03-23         60  thomj005\n",
       "1  2000-04-01          0  alvaw001\n",
       "2  2000-04-01         15  osuna002\n",
       "3  2000-04-08         15  hamid001\n",
       "4  2000-04-08         15  timlm001"
      ]
     },
     "execution_count": 226,
     "metadata": {},
     "output_type": "execute_result"
    }
   ],
   "source": [
    "# All I need is the date, the dl_length, the player_id for this.\n",
    "final_injury_df = df_injury_sm[['Date','DL_length','player_id']].copy()\n",
    "final_injury_df.head()"
   ]
  },
  {
   "cell_type": "code",
   "execution_count": 227,
   "metadata": {},
   "outputs": [
    {
     "data": {
      "text/html": [
       "<div>\n",
       "<style scoped>\n",
       "    .dataframe tbody tr th:only-of-type {\n",
       "        vertical-align: middle;\n",
       "    }\n",
       "\n",
       "    .dataframe tbody tr th {\n",
       "        vertical-align: top;\n",
       "    }\n",
       "\n",
       "    .dataframe thead th {\n",
       "        text-align: right;\n",
       "    }\n",
       "</style>\n",
       "<table border=\"1\" class=\"dataframe\">\n",
       "  <thead>\n",
       "    <tr style=\"text-align: right;\">\n",
       "      <th></th>\n",
       "      <th>Date</th>\n",
       "      <th>DL_length</th>\n",
       "      <th>player_id</th>\n",
       "    </tr>\n",
       "  </thead>\n",
       "  <tbody>\n",
       "    <tr>\n",
       "      <th>0</th>\n",
       "      <td>20000323</td>\n",
       "      <td>60</td>\n",
       "      <td>thomj005</td>\n",
       "    </tr>\n",
       "    <tr>\n",
       "      <th>1</th>\n",
       "      <td>20000401</td>\n",
       "      <td>0</td>\n",
       "      <td>alvaw001</td>\n",
       "    </tr>\n",
       "    <tr>\n",
       "      <th>2</th>\n",
       "      <td>20000401</td>\n",
       "      <td>15</td>\n",
       "      <td>osuna002</td>\n",
       "    </tr>\n",
       "    <tr>\n",
       "      <th>3</th>\n",
       "      <td>20000408</td>\n",
       "      <td>15</td>\n",
       "      <td>hamid001</td>\n",
       "    </tr>\n",
       "    <tr>\n",
       "      <th>4</th>\n",
       "      <td>20000408</td>\n",
       "      <td>15</td>\n",
       "      <td>timlm001</td>\n",
       "    </tr>\n",
       "  </tbody>\n",
       "</table>\n",
       "</div>"
      ],
      "text/plain": [
       "       Date  DL_length player_id\n",
       "0  20000323         60  thomj005\n",
       "1  20000401          0  alvaw001\n",
       "2  20000401         15  osuna002\n",
       "3  20000408         15  hamid001\n",
       "4  20000408         15  timlm001"
      ]
     },
     "execution_count": 227,
     "metadata": {},
     "output_type": "execute_result"
    }
   ],
   "source": [
    "# The format of the Date column needs to be updated, since that was lost along the way:\n",
    "final_injury_df['Date'] = final_injury_df['Date'].map(lambda x: x.replace('-',''))\n",
    "final_injury_df.head()"
   ]
  },
  {
   "cell_type": "code",
   "execution_count": 237,
   "metadata": {
    "collapsed": true
   },
   "outputs": [],
   "source": [
    "final_injury_df['DL_length'].median()\n",
    "# 15.0\n",
    "\n",
    "final_injury_df['DL_length'] = final_injury_df['DL_length'].replace(0,15)"
   ]
  },
  {
   "cell_type": "markdown",
   "metadata": {},
   "source": [
    "## At this point, I the injury data is ready to be saved to a csv for merging with the game log data."
   ]
  },
  {
   "cell_type": "code",
   "execution_count": 238,
   "metadata": {
    "collapsed": true
   },
   "outputs": [],
   "source": [
    "final_injury_df.to_csv('injuries.csv',index=False)"
   ]
  },
  {
   "cell_type": "markdown",
   "metadata": {},
   "source": [
    "## EDA on Disabled List Placements From Data Before it Was Reduced:"
   ]
  },
  {
   "cell_type": "code",
   "execution_count": 6,
   "metadata": {
    "scrolled": false
   },
   "outputs": [
    {
     "data": {
      "text/plain": [
       "<matplotlib.text.Text at 0x108f26320>"
      ]
     },
     "execution_count": 6,
     "metadata": {},
     "output_type": "execute_result"
    },
    {
     "data": {
      "image/png": "[encoded data removed]",
      "text/plain": [
       "<matplotlib.figure.Figure at 0x108ef94a8>"
      ]
     },
     "metadata": {},
     "output_type": "display_data"
    }
   ],
   "source": [
    "plt.hist(final_injury_df.DL_length, normed=True)\n",
    "plt.title('Length of Time on Disabled List')\n",
    "plt.xlabel('Number of Days')\n",
    "plt.ylabel('Number of Injuries')"
   ]
  },
  {
   "cell_type": "code",
   "execution_count": null,
   "metadata": {
    "collapsed": true
   },
   "outputs": [],
   "source": [
    "# To sort the barplot by mean length of time on DL\n",
    "result = injury_df.groupby([\"Team\"])['DL_length'].aggregate(np.mean).reset_index().sort_values('DL_length')\n",
    "\n",
    "plt.figure(figsize=(20,10))\n",
    "sns.barplot(injury_df.Team, injury_df.DL_length, order=result['Team'])\n",
    "plt.title('Avg time spent on the Disabled List by Team')\n",
    "plt.xlabel('Teams')\n",
    "plt.ylabel('Mean Length of Time on Disabled List')"
   ]
  },
  {
   "cell_type": "code",
   "execution_count": null,
   "metadata": {
    "collapsed": true
   },
   "outputs": [],
   "source": [
    "team_count_injury = pd.DataFrame(injury_df.groupby('Team')['Injury'].sum())\n",
    "ax = team_count_injury.plot(kind='bar',figsize=(20,6))\n",
    "for container in ax.containers:\n",
    "              plt.setp(container, width=0.9)\n",
    "plt.title('Total Count of Injuries by Team for 1999-2016')\n",
    "plt.xlabel('Teams in the MLB')\n",
    "plt.ylabel('Total Injury Count')"
   ]
  },
  {
   "cell_type": "code",
   "execution_count": 2,
   "metadata": {
    "collapsed": true
   },
   "outputs": [],
   "source": [
    "new_eda = pd.read_csv('injuries.csv')"
   ]
  },
  {
   "cell_type": "code",
   "execution_count": 4,
   "metadata": {
    "collapsed": true
   },
   "outputs": [],
   "source": [
    "new_eda['Date'] = pd.to_datetime(new_eda['Date'])"
   ]
  },
  {
   "cell_type": "code",
   "execution_count": 5,
   "metadata": {
    "collapsed": true
   },
   "outputs": [],
   "source": [
    "new_eda.set_index('Date',drop=True, inplace=True)"
   ]
  },
  {
   "cell_type": "code",
   "execution_count": null,
   "metadata": {
    "collapsed": true
   },
   "outputs": [],
   "source": []
  }
 ],
 "metadata": {
  "kernelspec": {
   "display_name": "Python 3",
   "language": "python",
   "name": "python3"
  },
  "language_info": {
   "codemirror_mode": {
    "name": "ipython",
    "version": 3
   },
   "file_extension": ".py",
   "mimetype": "text/x-python",
   "name": "python",
   "nbconvert_exporter": "python",
   "pygments_lexer": "ipython3",
   "version": "3.6.1"
  }
 },
 "nbformat": 4,
 "nbformat_minor": 2
}
