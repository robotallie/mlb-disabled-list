{
 "cells": [
  {
   "cell_type": "markdown",
   "metadata": {},
   "source": [
    "## Allie Surina\n",
    "Capstone: There's No Crying in Baseball, Even if You Get on the Disabled List\n",
    "\n",
    "# Outline:\n",
    "## Problem Statement\n",
    "## Data\n",
    "- Gathering, Cleaning, Record Linkage\n",
    "## Model\n",
    "- Logistic Regression, k-NN, Random Forest Classifier, SVM,\n",
    "## Model Evaluation\n",
    "- Accuracy = 0.88, AUC Score = 57.6 % with threshold of 0.50\n",
    "## Next Steps\n",
    "\n",
    "---\n",
    "\n",
    "\n",
    "# Problem Statement:\n",
    "This project designs a machine learning classification model to predict whether a Major League Baseball game Disabled List (DL) placement will happen after a game during regular season. Using historical data of game logs and DL placements occuring between March 2000 and October 2016, I predicted DL placements with 88% accuracy using a Logistic Regression model.\n",
    "\n",
    "\n",
    "---\n",
    "\n",
    "# Data\n",
    "\n",
    "<img src=\"https://i.imgur.com/9l5BXKV.jpg\" height=\"300px\"></img>\n",
    "\n",
    "## Gathering Data\n",
    "\n",
    "## Cleaning Data\n",
    "\n",
    "## Record Linkage between Disabled List and Game Log Data\n",
    "\n",
    "# Model\n",
    "\n",
    "# Model Evaluation\n",
    "\n",
    "# Next Steps"
   ]
  }
 ],
 "metadata": {
  "kernelspec": {
   "display_name": "Python 3",
   "language": "python",
   "name": "python3"
  },
  "language_info": {
   "codemirror_mode": {
    "name": "ipython",
    "version": 3
   },
   "file_extension": ".py",
   "mimetype": "text/x-python",
   "name": "python",
   "nbconvert_exporter": "python",
   "pygments_lexer": "ipython3",
   "version": "3.6.1"
  }
 },
 "nbformat": 4,
 "nbformat_minor": 2
}
